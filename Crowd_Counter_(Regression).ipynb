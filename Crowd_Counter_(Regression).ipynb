{
  "nbformat": 4,
  "nbformat_minor": 0,
  "metadata": {
    "colab": {
      "name": "Crowd Counter (Regression).ipynb",
      "provenance": [],
      "mount_file_id": "1kX3bWLZ-KqRNjfmUnzdgn1YcjYZGPzhW",
      "authorship_tag": "ABX9TyN2RnyjHgnDYiF4Iv0On/V1",
      "include_colab_link": true
    },
    "kernelspec": {
      "name": "python3",
      "display_name": "Python 3"
    }
  },
  "cells": [
    {
      "cell_type": "markdown",
      "metadata": {
        "id": "view-in-github",
        "colab_type": "text"
      },
      "source": [
        "<a href=\"https://colab.research.google.com/github/imdeepmind/CrowdCounter/blob/master/Crowd_Counter_(Regression).ipynb\" target=\"_parent\"><img src=\"https://colab.research.google.com/assets/colab-badge.svg\" alt=\"Open In Colab\"/></a>"
      ]
    },
    {
      "cell_type": "code",
      "metadata": {
        "id": "2o0xL6dWfLyK",
        "colab_type": "code",
        "colab": {}
      },
      "source": [
        "# Getting the dataset into proper place\n",
        "!mkdir data\n",
        "!cp '/content/drive/My Drive/datasets/dataset.zip' ./\n",
        "!unzip -qq dataset.zip -d ./data/\n",
        "!rm dataset.zip"
      ],
      "execution_count": 3,
      "outputs": []
    },
    {
      "cell_type": "code",
      "metadata": {
        "id": "eegb0wcI8vKZ",
        "colab_type": "code",
        "colab": {}
      },
      "source": [
        "from sklearn.model_selection import train_test_split\n",
        "import pandas as pd\n"
      ],
      "execution_count": 32,
      "outputs": []
    },
    {
      "cell_type": "code",
      "metadata": {
        "id": "txP9eK7yE1ZV",
        "colab_type": "code",
        "colab": {
          "base_uri": "https://localhost:8080/",
          "height": 206
        },
        "outputId": "f901643c-4926-4be3-c7e4-c28488409070"
      },
      "source": [
        "# Reading data\n",
        "data = pd.read_csv(\"./data/processed.csv\")\n",
        "\n",
        "data.head()"
      ],
      "execution_count": 33,
      "outputs": [
        {
          "output_type": "execute_result",
          "data": {
            "text/html": [
              "<div>\n",
              "<style scoped>\n",
              "    .dataframe tbody tr th:only-of-type {\n",
              "        vertical-align: middle;\n",
              "    }\n",
              "\n",
              "    .dataframe tbody tr th {\n",
              "        vertical-align: top;\n",
              "    }\n",
              "\n",
              "    .dataframe thead th {\n",
              "        text-align: right;\n",
              "    }\n",
              "</style>\n",
              "<table border=\"1\" class=\"dataframe\">\n",
              "  <thead>\n",
              "    <tr style=\"text-align: right;\">\n",
              "      <th></th>\n",
              "      <th>image</th>\n",
              "      <th>count</th>\n",
              "    </tr>\n",
              "  </thead>\n",
              "  <tbody>\n",
              "    <tr>\n",
              "      <th>0</th>\n",
              "      <td>seq_000689.jpg</td>\n",
              "      <td>35</td>\n",
              "    </tr>\n",
              "    <tr>\n",
              "      <th>1</th>\n",
              "      <td>seq_000516.jpg</td>\n",
              "      <td>41</td>\n",
              "    </tr>\n",
              "    <tr>\n",
              "      <th>2</th>\n",
              "      <td>seq_000217.jpg</td>\n",
              "      <td>41</td>\n",
              "    </tr>\n",
              "    <tr>\n",
              "      <th>3</th>\n",
              "      <td>seq_000870.jpg</td>\n",
              "      <td>44</td>\n",
              "    </tr>\n",
              "    <tr>\n",
              "      <th>4</th>\n",
              "      <td>seq_000324.jpg</td>\n",
              "      <td>41</td>\n",
              "    </tr>\n",
              "  </tbody>\n",
              "</table>\n",
              "</div>"
            ],
            "text/plain": [
              "            image  count\n",
              "0  seq_000689.jpg     35\n",
              "1  seq_000516.jpg     41\n",
              "2  seq_000217.jpg     41\n",
              "3  seq_000870.jpg     44\n",
              "4  seq_000324.jpg     41"
            ]
          },
          "metadata": {
            "tags": []
          },
          "execution_count": 33
        }
      ]
    },
    {
      "cell_type": "code",
      "metadata": {
        "id": "31FSgcYVE-bf",
        "colab_type": "code",
        "colab": {
          "base_uri": "https://localhost:8080/",
          "height": 206
        },
        "outputId": "300efe73-4660-438b-d849-88e9a447e05a"
      },
      "source": [
        "train, test = train_test_split(data, test_size=0.1, random_state=1969)\n",
        "\n",
        "train.head()"
      ],
      "execution_count": 35,
      "outputs": [
        {
          "output_type": "execute_result",
          "data": {
            "text/html": [
              "<div>\n",
              "<style scoped>\n",
              "    .dataframe tbody tr th:only-of-type {\n",
              "        vertical-align: middle;\n",
              "    }\n",
              "\n",
              "    .dataframe tbody tr th {\n",
              "        vertical-align: top;\n",
              "    }\n",
              "\n",
              "    .dataframe thead th {\n",
              "        text-align: right;\n",
              "    }\n",
              "</style>\n",
              "<table border=\"1\" class=\"dataframe\">\n",
              "  <thead>\n",
              "    <tr style=\"text-align: right;\">\n",
              "      <th></th>\n",
              "      <th>image</th>\n",
              "      <th>count</th>\n",
              "    </tr>\n",
              "  </thead>\n",
              "  <tbody>\n",
              "    <tr>\n",
              "      <th>261</th>\n",
              "      <td>seq_000604.jpg</td>\n",
              "      <td>18</td>\n",
              "    </tr>\n",
              "    <tr>\n",
              "      <th>962</th>\n",
              "      <td>seq_000537.jpg</td>\n",
              "      <td>31</td>\n",
              "    </tr>\n",
              "    <tr>\n",
              "      <th>592</th>\n",
              "      <td>seq_000526.jpg</td>\n",
              "      <td>25</td>\n",
              "    </tr>\n",
              "    <tr>\n",
              "      <th>884</th>\n",
              "      <td>seq_000801.jpg</td>\n",
              "      <td>25</td>\n",
              "    </tr>\n",
              "    <tr>\n",
              "      <th>84</th>\n",
              "      <td>seq_000954.jpg</td>\n",
              "      <td>31</td>\n",
              "    </tr>\n",
              "  </tbody>\n",
              "</table>\n",
              "</div>"
            ],
            "text/plain": [
              "              image  count\n",
              "261  seq_000604.jpg     18\n",
              "962  seq_000537.jpg     31\n",
              "592  seq_000526.jpg     25\n",
              "884  seq_000801.jpg     25\n",
              "84   seq_000954.jpg     31"
            ]
          },
          "metadata": {
            "tags": []
          },
          "execution_count": 35
        }
      ]
    },
    {
      "cell_type": "code",
      "metadata": {
        "id": "A8mfERF28vzf",
        "colab_type": "code",
        "colab": {}
      },
      "source": [
        "train_generator = ImageDataGenerator(rotation_range=180, zoom_range=1.0, horizontal_flip=True, vertical_flip=True, rescale=1/255., validation_split=0.1)\n",
        "test_generator = ImageDataGenerator(rescale=1/255.)\n"
      ],
      "execution_count": 36,
      "outputs": []
    },
    {
      "cell_type": "code",
      "metadata": {
        "id": "5gZA1FobF1t2",
        "colab_type": "code",
        "colab": {
          "base_uri": "https://localhost:8080/",
          "height": 56
        },
        "outputId": "c5e8b56e-cae0-4023-856e-bb0d78a12389"
      },
      "source": [
        "train_data = train_generator.flow_from_dataframe(train, \n",
        "                                                 directory='./data/frames/frames/', \n",
        "                                                 x_col='image', \n",
        "                                                 y_col='count', \n",
        "                                                 target_size=(256, 256),\n",
        "                                                 color_mode='rgb',\n",
        "                                                 class_mode='raw',\n",
        "                                                 batch_size=32,\n",
        "                                                 shuffle=True)\n",
        "\n",
        "test_data = test_generator.flow_from_dataframe(test, \n",
        "                                                 directory='./data/frames/frames/', \n",
        "                                                 x_col='image', \n",
        "                                                 y_col='count', \n",
        "                                                 target_size=(256, 256),\n",
        "                                                 color_mode='rgb',\n",
        "                                                 class_mode='raw',\n",
        "                                                 batch_size=32,\n",
        "                                                 shuffle=True)\n"
      ],
      "execution_count": 37,
      "outputs": [
        {
          "output_type": "stream",
          "text": [
            "Found 1800 validated image filenames.\n",
            "Found 200 validated image filenames.\n"
          ],
          "name": "stdout"
        }
      ]
    },
    {
      "cell_type": "code",
      "metadata": {
        "id": "J63_KT75Ilud",
        "colab_type": "code",
        "colab": {}
      },
      "source": [
        ""
      ],
      "execution_count": null,
      "outputs": []
    }
  ]
}