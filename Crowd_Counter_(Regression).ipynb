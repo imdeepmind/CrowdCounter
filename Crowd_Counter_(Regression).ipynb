{
  "nbformat": 4,
  "nbformat_minor": 0,
  "metadata": {
    "colab": {
      "name": "Crowd Counter (Regression).ipynb",
      "provenance": [],
      "mount_file_id": "1kX3bWLZ-KqRNjfmUnzdgn1YcjYZGPzhW",
      "authorship_tag": "ABX9TyP929sVEFQIQfMyVC5lrV2c",
      "include_colab_link": true
    },
    "kernelspec": {
      "name": "python3",
      "display_name": "Python 3"
    },
    "accelerator": "GPU"
  },
  "cells": [
    {
      "cell_type": "markdown",
      "metadata": {
        "id": "view-in-github",
        "colab_type": "text"
      },
      "source": [
        "<a href=\"https://colab.research.google.com/github/imdeepmind/CrowdCounter/blob/master/Crowd_Counter_(Regression).ipynb\" target=\"_parent\"><img src=\"https://colab.research.google.com/assets/colab-badge.svg\" alt=\"Open In Colab\"/></a>"
      ]
    },
    {
      "cell_type": "code",
      "metadata": {
        "id": "2o0xL6dWfLyK",
        "colab_type": "code",
        "colab": {}
      },
      "source": [
        "# Getting the dataset into proper place\n",
        "!mkdir data\n",
        "!cp '/content/drive/My Drive/datasets/dataset.zip' ./\n",
        "!unzip -qq dataset.zip -d ./data/\n",
        "!rm dataset.zip"
      ],
      "execution_count": 1,
      "outputs": []
    },
    {
      "cell_type": "code",
      "metadata": {
        "id": "SYTkkaZ3MiMe",
        "colab_type": "code",
        "colab": {}
      },
      "source": [
        "# Script to generate the processed.csv file\n",
        "import pandas as pd\n",
        "import numpy as np\n",
        "import matplotlib.pyplot as plt\n",
        "import matplotlib.image as mpimg\n",
        "import os\n",
        "\n",
        "labels = pd.read_csv('data/labels.csv')\n",
        "\n",
        "preprocessed_labels = []\n",
        "preprocessed_images = []\n",
        "\n",
        "images = os.listdir(\"/content/data/frames/frames\")\n",
        "\n",
        "for (id, count) in labels.values:\n",
        "  preprocessed_labels.append(count)\n",
        "  preprocessed_images.append(images[id-1])\n",
        "\n",
        "df = pd.DataFrame(columns=['image', 'count'])\n",
        "df['image'] = preprocessed_images\n",
        "df['count'] = preprocessed_labels\n",
        "\n",
        "df.head()\n",
        "\n",
        "df.to_csv('./data/processed.csv', index=False)"
      ],
      "execution_count": 2,
      "outputs": []
    },
    {
      "cell_type": "code",
      "metadata": {
        "id": "eegb0wcI8vKZ",
        "colab_type": "code",
        "colab": {}
      },
      "source": [
        "from sklearn.model_selection import train_test_split\n",
        "import pandas as pd\n",
        "import matplotlib.pyplot as plt\n",
        "\n",
        "from tensorflow.keras.models import Sequential\n",
        "from tensorflow.keras.layers import Conv2D, Dense, MaxPooling2D, Dropout, Flatten\n",
        "from tensorflow.keras.preprocessing.image import ImageDataGenerator\n",
        "from tensorflow.keras.losses import MeanSquaredError, Huber\n",
        "from tensorflow.keras.optimizers import Adam"
      ],
      "execution_count": 14,
      "outputs": []
    },
    {
      "cell_type": "code",
      "metadata": {
        "id": "txP9eK7yE1ZV",
        "colab_type": "code",
        "colab": {
          "base_uri": "https://localhost:8080/",
          "height": 206
        },
        "outputId": "0efce38d-eedb-4685-8d54-0cdce86f92c5"
      },
      "source": [
        "# Reading data\n",
        "data = pd.read_csv(\"./data/processed.csv\")\n",
        "\n",
        "data.head()"
      ],
      "execution_count": 15,
      "outputs": [
        {
          "output_type": "execute_result",
          "data": {
            "text/html": [
              "<div>\n",
              "<style scoped>\n",
              "    .dataframe tbody tr th:only-of-type {\n",
              "        vertical-align: middle;\n",
              "    }\n",
              "\n",
              "    .dataframe tbody tr th {\n",
              "        vertical-align: top;\n",
              "    }\n",
              "\n",
              "    .dataframe thead th {\n",
              "        text-align: right;\n",
              "    }\n",
              "</style>\n",
              "<table border=\"1\" class=\"dataframe\">\n",
              "  <thead>\n",
              "    <tr style=\"text-align: right;\">\n",
              "      <th></th>\n",
              "      <th>image</th>\n",
              "      <th>count</th>\n",
              "    </tr>\n",
              "  </thead>\n",
              "  <tbody>\n",
              "    <tr>\n",
              "      <th>0</th>\n",
              "      <td>seq_001106.jpg</td>\n",
              "      <td>35</td>\n",
              "    </tr>\n",
              "    <tr>\n",
              "      <th>1</th>\n",
              "      <td>seq_001433.jpg</td>\n",
              "      <td>41</td>\n",
              "    </tr>\n",
              "    <tr>\n",
              "      <th>2</th>\n",
              "      <td>seq_000460.jpg</td>\n",
              "      <td>41</td>\n",
              "    </tr>\n",
              "    <tr>\n",
              "      <th>3</th>\n",
              "      <td>seq_000295.jpg</td>\n",
              "      <td>44</td>\n",
              "    </tr>\n",
              "    <tr>\n",
              "      <th>4</th>\n",
              "      <td>seq_001890.jpg</td>\n",
              "      <td>41</td>\n",
              "    </tr>\n",
              "  </tbody>\n",
              "</table>\n",
              "</div>"
            ],
            "text/plain": [
              "            image  count\n",
              "0  seq_001106.jpg     35\n",
              "1  seq_001433.jpg     41\n",
              "2  seq_000460.jpg     41\n",
              "3  seq_000295.jpg     44\n",
              "4  seq_001890.jpg     41"
            ]
          },
          "metadata": {
            "tags": []
          },
          "execution_count": 15
        }
      ]
    },
    {
      "cell_type": "code",
      "metadata": {
        "id": "31FSgcYVE-bf",
        "colab_type": "code",
        "colab": {
          "base_uri": "https://localhost:8080/",
          "height": 206
        },
        "outputId": "36abd685-87b5-4fa1-ca11-8feaa23321d9"
      },
      "source": [
        "train, test = train_test_split(data, test_size=0.1, random_state=1969)\n",
        "\n",
        "train.head()"
      ],
      "execution_count": 16,
      "outputs": [
        {
          "output_type": "execute_result",
          "data": {
            "text/html": [
              "<div>\n",
              "<style scoped>\n",
              "    .dataframe tbody tr th:only-of-type {\n",
              "        vertical-align: middle;\n",
              "    }\n",
              "\n",
              "    .dataframe tbody tr th {\n",
              "        vertical-align: top;\n",
              "    }\n",
              "\n",
              "    .dataframe thead th {\n",
              "        text-align: right;\n",
              "    }\n",
              "</style>\n",
              "<table border=\"1\" class=\"dataframe\">\n",
              "  <thead>\n",
              "    <tr style=\"text-align: right;\">\n",
              "      <th></th>\n",
              "      <th>image</th>\n",
              "      <th>count</th>\n",
              "    </tr>\n",
              "  </thead>\n",
              "  <tbody>\n",
              "    <tr>\n",
              "      <th>261</th>\n",
              "      <td>seq_000691.jpg</td>\n",
              "      <td>18</td>\n",
              "    </tr>\n",
              "    <tr>\n",
              "      <th>962</th>\n",
              "      <td>seq_000568.jpg</td>\n",
              "      <td>31</td>\n",
              "    </tr>\n",
              "    <tr>\n",
              "      <th>592</th>\n",
              "      <td>seq_000271.jpg</td>\n",
              "      <td>25</td>\n",
              "    </tr>\n",
              "    <tr>\n",
              "      <th>884</th>\n",
              "      <td>seq_001953.jpg</td>\n",
              "      <td>25</td>\n",
              "    </tr>\n",
              "    <tr>\n",
              "      <th>84</th>\n",
              "      <td>seq_000805.jpg</td>\n",
              "      <td>31</td>\n",
              "    </tr>\n",
              "  </tbody>\n",
              "</table>\n",
              "</div>"
            ],
            "text/plain": [
              "              image  count\n",
              "261  seq_000691.jpg     18\n",
              "962  seq_000568.jpg     31\n",
              "592  seq_000271.jpg     25\n",
              "884  seq_001953.jpg     25\n",
              "84   seq_000805.jpg     31"
            ]
          },
          "metadata": {
            "tags": []
          },
          "execution_count": 16
        }
      ]
    },
    {
      "cell_type": "code",
      "metadata": {
        "id": "A8mfERF28vzf",
        "colab_type": "code",
        "colab": {}
      },
      "source": [
        "train_generator = ImageDataGenerator(rotation_range=180, horizontal_flip=True, vertical_flip=True, rescale=1/255)\n",
        "test_generator = ImageDataGenerator(rescale=1/255.)\n"
      ],
      "execution_count": 42,
      "outputs": []
    },
    {
      "cell_type": "code",
      "metadata": {
        "id": "5gZA1FobF1t2",
        "colab_type": "code",
        "colab": {
          "base_uri": "https://localhost:8080/",
          "height": 56
        },
        "outputId": "c3d52f9c-3494-4242-8ff5-35a32f066df0"
      },
      "source": [
        "train_data = train_generator.flow_from_dataframe(train, \n",
        "                                                 directory='./data/frames/frames/', \n",
        "                                                 x_col='image', \n",
        "                                                 y_col='count', \n",
        "                                                 target_size=(640, 480),\n",
        "                                                 color_mode='rgb',\n",
        "                                                 class_mode='raw',\n",
        "                                                 batch_size=32,\n",
        "                                                 shuffle=True)\n",
        "\n",
        "test_data = test_generator.flow_from_dataframe(test, \n",
        "                                                 directory='./data/frames/frames/', \n",
        "                                                 x_col='image', \n",
        "                                                 y_col='count', \n",
        "                                                 target_size=(640, 480),\n",
        "                                                 color_mode='rgb',\n",
        "                                                 class_mode='raw',\n",
        "                                                 batch_size=32,\n",
        "                                                 shuffle=True)\n"
      ],
      "execution_count": 43,
      "outputs": [
        {
          "output_type": "stream",
          "text": [
            "Found 1800 validated image filenames.\n",
            "Found 200 validated image filenames.\n"
          ],
          "name": "stdout"
        }
      ]
    },
    {
      "cell_type": "code",
      "metadata": {
        "id": "J63_KT75Ilud",
        "colab_type": "code",
        "colab": {}
      },
      "source": [
        "model = Sequential()\n",
        "\n",
        "model.add(Conv2D(filters = 32, kernel_size = (5,5), padding = 'Same', activation ='relu', input_shape = (640,480,3)))\n",
        "model.add(MaxPooling2D(pool_size=(2,2)))\n",
        "model.add(Dropout(0.25))\n",
        "\n",
        "model.add(Conv2D(filters = 64, kernel_size = (5,5), padding = 'Same', activation ='relu'))\n",
        "model.add(MaxPooling2D(pool_size=(2,2)))\n",
        "model.add(Dropout(0.25))\n",
        "\n",
        "model.add(Conv2D(filters = 128, kernel_size = (5,5), padding = 'Same', activation ='relu'))\n",
        "model.add(MaxPooling2D(pool_size=(2,2)))\n",
        "model.add(Dropout(0.25))\n",
        "\n",
        "model.add(Conv2D(filters = 256, kernel_size = (5,5), padding = 'Same', activation ='relu'))\n",
        "model.add(MaxPooling2D(pool_size=(2,2)))\n",
        "model.add(Dropout(0.25))\n",
        "\n",
        "model.add(Flatten())\n",
        "\n",
        "model.add(Dense(128, activation = \"relu\"))\n",
        "model.add(Dropout(0.5))\n",
        "model.add(Dense(1))"
      ],
      "execution_count": 48,
      "outputs": []
    },
    {
      "cell_type": "code",
      "metadata": {
        "id": "hu4z38GeKiqg",
        "colab_type": "code",
        "colab": {}
      },
      "source": [
        "model.compile(loss='mean_squared_error', optimizer='adam', metrics=['mae'])"
      ],
      "execution_count": 49,
      "outputs": []
    },
    {
      "cell_type": "code",
      "metadata": {
        "id": "8pFX81l3KxQu",
        "colab_type": "code",
        "colab": {
          "base_uri": "https://localhost:8080/",
          "height": 787
        },
        "outputId": "a070b201-be4e-43e0-a9d4-e940721afb29"
      },
      "source": [
        "model.summary()"
      ],
      "execution_count": 50,
      "outputs": [
        {
          "output_type": "stream",
          "text": [
            "Model: \"sequential_7\"\n",
            "_________________________________________________________________\n",
            "Layer (type)                 Output Shape              Param #   \n",
            "=================================================================\n",
            "conv2d_21 (Conv2D)           (None, 640, 480, 32)      2432      \n",
            "_________________________________________________________________\n",
            "max_pooling2d_21 (MaxPooling (None, 320, 240, 32)      0         \n",
            "_________________________________________________________________\n",
            "dropout_28 (Dropout)         (None, 320, 240, 32)      0         \n",
            "_________________________________________________________________\n",
            "conv2d_22 (Conv2D)           (None, 320, 240, 64)      51264     \n",
            "_________________________________________________________________\n",
            "max_pooling2d_22 (MaxPooling (None, 160, 120, 64)      0         \n",
            "_________________________________________________________________\n",
            "dropout_29 (Dropout)         (None, 160, 120, 64)      0         \n",
            "_________________________________________________________________\n",
            "conv2d_23 (Conv2D)           (None, 160, 120, 128)     204928    \n",
            "_________________________________________________________________\n",
            "max_pooling2d_23 (MaxPooling (None, 80, 60, 128)       0         \n",
            "_________________________________________________________________\n",
            "dropout_30 (Dropout)         (None, 80, 60, 128)       0         \n",
            "_________________________________________________________________\n",
            "conv2d_24 (Conv2D)           (None, 80, 60, 256)       819456    \n",
            "_________________________________________________________________\n",
            "max_pooling2d_24 (MaxPooling (None, 40, 30, 256)       0         \n",
            "_________________________________________________________________\n",
            "dropout_31 (Dropout)         (None, 40, 30, 256)       0         \n",
            "_________________________________________________________________\n",
            "flatten_7 (Flatten)          (None, 307200)            0         \n",
            "_________________________________________________________________\n",
            "dense_14 (Dense)             (None, 128)               39321728  \n",
            "_________________________________________________________________\n",
            "dropout_32 (Dropout)         (None, 128)               0         \n",
            "_________________________________________________________________\n",
            "dense_15 (Dense)             (None, 1)                 129       \n",
            "=================================================================\n",
            "Total params: 40,399,937\n",
            "Trainable params: 40,399,937\n",
            "Non-trainable params: 0\n",
            "_________________________________________________________________\n"
          ],
          "name": "stdout"
        }
      ]
    },
    {
      "cell_type": "code",
      "metadata": {
        "id": "mbILpPBsKzrd",
        "colab_type": "code",
        "colab": {
          "base_uri": "https://localhost:8080/",
          "height": 133
        },
        "outputId": "abe6cbfa-ee39-426e-c2c0-9979449da54a"
      },
      "source": [
        "history = model.fit(train_data, \n",
        "          steps_per_epoch=1800//32,\n",
        "          validation_data=test_data,\n",
        "          validation_steps=200//32,\n",
        "          epochs=3)"
      ],
      "execution_count": 51,
      "outputs": [
        {
          "output_type": "stream",
          "text": [
            "Epoch 1/3\n",
            "56/56 [==============================] - 171s 3s/step - loss: 1498.4061 - mae: 15.5867 - val_loss: 231.8284 - val_mae: 13.6407\n",
            "Epoch 2/3\n",
            "56/56 [==============================] - 173s 3s/step - loss: 73.1987 - mae: 6.8116 - val_loss: 234.9359 - val_mae: 13.7532\n",
            "Epoch 3/3\n",
            "56/56 [==============================] - 171s 3s/step - loss: 78.8587 - mae: 7.1139 - val_loss: 195.3768 - val_mae: 12.2688\n"
          ],
          "name": "stdout"
        }
      ]
    },
    {
      "cell_type": "code",
      "metadata": {
        "id": "8YgXKMTxMG90",
        "colab_type": "code",
        "colab": {
          "base_uri": "https://localhost:8080/",
          "height": 573
        },
        "outputId": "2a4d4255-16ce-47bc-cde2-84be5c608085"
      },
      "source": [
        "plt.plot(history.history['mae'])\n",
        "plt.plot(history.history['val_mae'])\n",
        "plt.title('Model MAE')\n",
        "plt.ylabel('MAE')\n",
        "plt.xlabel('Epoch')\n",
        "plt.legend(['train', 'test'], loc='upper left')\n",
        "plt.show()\n",
        "\n",
        "plt.plot(history.history['loss'])\n",
        "plt.plot(history.history['val_loss'])\n",
        "plt.title('Model Loss')\n",
        "plt.ylabel('Loss')\n",
        "plt.xlabel('Epoch')\n",
        "plt.legend(['train', 'test'], loc='upper left')\n",
        "plt.show()"
      ],
      "execution_count": 52,
      "outputs": [
        {
          "output_type": "display_data",
          "data": {
            "image/png": "[encoded data removed]",
            "text/plain": [
              "<Figure size 432x288 with 1 Axes>"
            ]
          },
          "metadata": {
            "tags": [],
            "needs_background": "light"
          }
        },
        {
          "output_type": "display_data",
          "data": {
            "image/png": "[encoded data removed]",
            "text/plain": [
              "<Figure size 432x288 with 1 Axes>"
            ]
          },
          "metadata": {
            "tags": [],
            "needs_background": "light"
          }
        }
      ]
    },
    {
      "cell_type": "code",
      "metadata": {
        "id": "Sg2z3_DBNvkf",
        "colab_type": "code",
        "colab": {}
      },
      "source": [
        ""
      ],
      "execution_count": 12,
      "outputs": []
    }
  ]
}