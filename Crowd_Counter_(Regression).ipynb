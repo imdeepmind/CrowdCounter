{
  "nbformat": 4,
  "nbformat_minor": 0,
  "metadata": {
    "colab": {
      "name": "Crowd Counter (Regression).ipynb",
      "provenance": [],
      "mount_file_id": "1kX3bWLZ-KqRNjfmUnzdgn1YcjYZGPzhW",
      "authorship_tag": "ABX9TyMXf0hzgmk8cJNj42HrW+Z4",
      "include_colab_link": true
    },
    "kernelspec": {
      "name": "python3",
      "display_name": "Python 3"
    },
    "accelerator": "GPU"
  },
  "cells": [
    {
      "cell_type": "markdown",
      "metadata": {
        "id": "view-in-github",
        "colab_type": "text"
      },
      "source": [
        "<a href=\"https://colab.research.google.com/github/imdeepmind/CrowdCounter/blob/master/Crowd_Counter_(Regression).ipynb\" target=\"_parent\"><img src=\"https://colab.research.google.com/assets/colab-badge.svg\" alt=\"Open In Colab\"/></a>"
      ]
    },
    {
      "cell_type": "code",
      "metadata": {
        "id": "2o0xL6dWfLyK",
        "colab_type": "code",
        "colab": {}
      },
      "source": [
        "# Getting the dataset into proper place\n",
        "!mkdir data\n",
        "!cp '/content/drive/My Drive/datasets/dataset.zip' ./\n",
        "!unzip -qq dataset.zip -d ./data/\n",
        "!rm dataset.zip"
      ],
      "execution_count": null,
      "outputs": []
    },
    {
      "cell_type": "code",
      "metadata": {
        "id": "SYTkkaZ3MiMe",
        "colab_type": "code",
        "colab": {}
      },
      "source": [
        "# Script to generate the processed.csv file\n",
        "import pandas as pd\n",
        "import numpy as np\n",
        "import matplotlib.pyplot as plt\n",
        "import matplotlib.image as mpimg\n",
        "import os\n",
        "\n",
        "labels = pd.read_csv('data/labels.csv')\n",
        "\n",
        "preprocessed_labels = []\n",
        "preprocessed_images = []\n",
        "\n",
        "images = os.listdir(\"/content/data/frames/frames\")\n",
        "\n",
        "for (id, count) in labels.values:\n",
        "  preprocessed_labels.append(count)\n",
        "  preprocessed_images.append(images[id-1])\n",
        "\n",
        "df = pd.DataFrame(columns=['image', 'count'])\n",
        "df['image'] = preprocessed_images\n",
        "df['count'] = preprocessed_labels\n",
        "\n",
        "df.head()\n",
        "\n",
        "df.to_csv('./data/processed.csv', index=False)"
      ],
      "execution_count": null,
      "outputs": []
    },
    {
      "cell_type": "code",
      "metadata": {
        "id": "eegb0wcI8vKZ",
        "colab_type": "code",
        "colab": {}
      },
      "source": [
        "from sklearn.model_selection import train_test_split\n",
        "import pandas as pd\n",
        "import matplotlib.pyplot as plt\n",
        "\n",
        "from tensorflow.keras.models import Sequential\n",
        "from tensorflow.keras.layers import Conv2D, Dense, MaxPooling2D, Dropout, Flatten\n",
        "from tensorflow.keras.preprocessing.image import ImageDataGenerator\n",
        "from tensorflow.keras.losses import MeanSquaredError, Huber\n",
        "from tensorflow.keras.optimizers import Adam\n",
        "from tensorflow.keras.callbacks import EarlyStopping"
      ],
      "execution_count": 2,
      "outputs": []
    },
    {
      "cell_type": "code",
      "metadata": {
        "id": "txP9eK7yE1ZV",
        "colab_type": "code",
        "colab": {
          "base_uri": "https://localhost:8080/",
          "height": 206
        },
        "outputId": "23c9aef7-556b-41ac-ce77-3f4c21f87e5b"
      },
      "source": [
        "# Reading data\n",
        "data = pd.read_csv(\"./data/processed.csv\")\n",
        "\n",
        "data.head()"
      ],
      "execution_count": 3,
      "outputs": [
        {
          "output_type": "execute_result",
          "data": {
            "text/html": [
              "<div>\n",
              "<style scoped>\n",
              "    .dataframe tbody tr th:only-of-type {\n",
              "        vertical-align: middle;\n",
              "    }\n",
              "\n",
              "    .dataframe tbody tr th {\n",
              "        vertical-align: top;\n",
              "    }\n",
              "\n",
              "    .dataframe thead th {\n",
              "        text-align: right;\n",
              "    }\n",
              "</style>\n",
              "<table border=\"1\" class=\"dataframe\">\n",
              "  <thead>\n",
              "    <tr style=\"text-align: right;\">\n",
              "      <th></th>\n",
              "      <th>image</th>\n",
              "      <th>count</th>\n",
              "    </tr>\n",
              "  </thead>\n",
              "  <tbody>\n",
              "    <tr>\n",
              "      <th>0</th>\n",
              "      <td>seq_001106.jpg</td>\n",
              "      <td>35</td>\n",
              "    </tr>\n",
              "    <tr>\n",
              "      <th>1</th>\n",
              "      <td>seq_001433.jpg</td>\n",
              "      <td>41</td>\n",
              "    </tr>\n",
              "    <tr>\n",
              "      <th>2</th>\n",
              "      <td>seq_000460.jpg</td>\n",
              "      <td>41</td>\n",
              "    </tr>\n",
              "    <tr>\n",
              "      <th>3</th>\n",
              "      <td>seq_000295.jpg</td>\n",
              "      <td>44</td>\n",
              "    </tr>\n",
              "    <tr>\n",
              "      <th>4</th>\n",
              "      <td>seq_001890.jpg</td>\n",
              "      <td>41</td>\n",
              "    </tr>\n",
              "  </tbody>\n",
              "</table>\n",
              "</div>"
            ],
            "text/plain": [
              "            image  count\n",
              "0  seq_001106.jpg     35\n",
              "1  seq_001433.jpg     41\n",
              "2  seq_000460.jpg     41\n",
              "3  seq_000295.jpg     44\n",
              "4  seq_001890.jpg     41"
            ]
          },
          "metadata": {
            "tags": []
          },
          "execution_count": 3
        }
      ]
    },
    {
      "cell_type": "code",
      "metadata": {
        "id": "31FSgcYVE-bf",
        "colab_type": "code",
        "colab": {
          "base_uri": "https://localhost:8080/",
          "height": 206
        },
        "outputId": "ee12dc10-032d-4b6e-c28d-87517cda716c"
      },
      "source": [
        "train, test = train_test_split(data, test_size=0.1, random_state=1969)\n",
        "\n",
        "train.head()"
      ],
      "execution_count": 4,
      "outputs": [
        {
          "output_type": "execute_result",
          "data": {
            "text/html": [
              "<div>\n",
              "<style scoped>\n",
              "    .dataframe tbody tr th:only-of-type {\n",
              "        vertical-align: middle;\n",
              "    }\n",
              "\n",
              "    .dataframe tbody tr th {\n",
              "        vertical-align: top;\n",
              "    }\n",
              "\n",
              "    .dataframe thead th {\n",
              "        text-align: right;\n",
              "    }\n",
              "</style>\n",
              "<table border=\"1\" class=\"dataframe\">\n",
              "  <thead>\n",
              "    <tr style=\"text-align: right;\">\n",
              "      <th></th>\n",
              "      <th>image</th>\n",
              "      <th>count</th>\n",
              "    </tr>\n",
              "  </thead>\n",
              "  <tbody>\n",
              "    <tr>\n",
              "      <th>261</th>\n",
              "      <td>seq_000691.jpg</td>\n",
              "      <td>18</td>\n",
              "    </tr>\n",
              "    <tr>\n",
              "      <th>962</th>\n",
              "      <td>seq_000568.jpg</td>\n",
              "      <td>31</td>\n",
              "    </tr>\n",
              "    <tr>\n",
              "      <th>592</th>\n",
              "      <td>seq_000271.jpg</td>\n",
              "      <td>25</td>\n",
              "    </tr>\n",
              "    <tr>\n",
              "      <th>884</th>\n",
              "      <td>seq_001953.jpg</td>\n",
              "      <td>25</td>\n",
              "    </tr>\n",
              "    <tr>\n",
              "      <th>84</th>\n",
              "      <td>seq_000805.jpg</td>\n",
              "      <td>31</td>\n",
              "    </tr>\n",
              "  </tbody>\n",
              "</table>\n",
              "</div>"
            ],
            "text/plain": [
              "              image  count\n",
              "261  seq_000691.jpg     18\n",
              "962  seq_000568.jpg     31\n",
              "592  seq_000271.jpg     25\n",
              "884  seq_001953.jpg     25\n",
              "84   seq_000805.jpg     31"
            ]
          },
          "metadata": {
            "tags": []
          },
          "execution_count": 4
        }
      ]
    },
    {
      "cell_type": "code",
      "metadata": {
        "id": "A8mfERF28vzf",
        "colab_type": "code",
        "colab": {}
      },
      "source": [
        "train_generator = ImageDataGenerator(rotation_range=180, horizontal_flip=True, vertical_flip=True, rescale=1/255.)\n",
        "test_generator = ImageDataGenerator(rescale=1/255.)"
      ],
      "execution_count": 5,
      "outputs": []
    },
    {
      "cell_type": "code",
      "metadata": {
        "id": "5gZA1FobF1t2",
        "colab_type": "code",
        "colab": {
          "base_uri": "https://localhost:8080/",
          "height": 56
        },
        "outputId": "08a3be92-6876-4087-9606-3f0f72c8d910"
      },
      "source": [
        "train_data = train_generator.flow_from_dataframe(train, \n",
        "                                                 directory='./data/frames/frames/', \n",
        "                                                 x_col='image', \n",
        "                                                 y_col='count', \n",
        "                                                 target_size=(640, 480),\n",
        "                                                 color_mode='rgb',\n",
        "                                                 class_mode='raw',\n",
        "                                                 batch_size=16,\n",
        "                                                 shuffle=True)\n",
        "\n",
        "test_data = test_generator.flow_from_dataframe(test, \n",
        "                                                 directory='./data/frames/frames/', \n",
        "                                                 x_col='image', \n",
        "                                                 y_col='count', \n",
        "                                                 target_size=(640, 480),\n",
        "                                                 color_mode='rgb',\n",
        "                                                 class_mode='raw',\n",
        "                                                 batch_size=16,\n",
        "                                                 shuffle=True)\n"
      ],
      "execution_count": 14,
      "outputs": [
        {
          "output_type": "stream",
          "text": [
            "Found 1800 validated image filenames.\n",
            "Found 200 validated image filenames.\n"
          ],
          "name": "stdout"
        }
      ]
    },
    {
      "cell_type": "code",
      "metadata": {
        "id": "J63_KT75Ilud",
        "colab_type": "code",
        "colab": {}
      },
      "source": [
        "model = Sequential()\n",
        "\n",
        "model.add(Conv2D(filters = 64, kernel_size = 3, padding = 'Same', activation ='relu', input_shape = (640,480,3)))\n",
        "model.add(MaxPooling2D(pool_size=(2,2)))\n",
        "model.add(Dropout(0.25))\n",
        "\n",
        "model.add(Conv2D(filters = 64, kernel_size = 3, padding = 'Same', activation ='relu', input_shape = (640,480,3)))\n",
        "model.add(MaxPooling2D(pool_size=(2,2)))\n",
        "model.add(Dropout(0.25))\n",
        "\n",
        "model.add(Conv2D(filters = 128, kernel_size = 3, padding = 'Same', activation ='relu'))\n",
        "model.add(MaxPooling2D(pool_size=(2,2)))\n",
        "model.add(Dropout(0.25))\n",
        "\n",
        "model.add(Conv2D(filters = 128, kernel_size = 3, padding = 'Same', activation ='relu'))\n",
        "model.add(MaxPooling2D(pool_size=(2,2)))\n",
        "model.add(Dropout(0.25))\n",
        "\n",
        "model.add(Conv2D(filters = 256, kernel_size = 3, padding = 'Same', activation ='relu'))\n",
        "model.add(MaxPooling2D(pool_size=(2,2)))\n",
        "model.add(Dropout(0.25))\n",
        "\n",
        "model.add(Conv2D(filters = 256, kernel_size = 3, padding = 'Same', activation ='relu'))\n",
        "model.add(MaxPooling2D(pool_size=(2,2)))\n",
        "model.add(Dropout(0.25))\n",
        "\n",
        "model.add(Conv2D(filters = 256, kernel_size = 3, padding = 'Same', activation ='relu'))\n",
        "model.add(MaxPooling2D(pool_size=(2,2)))\n",
        "model.add(Dropout(0.25))\n",
        "\n",
        "model.add(Conv2D(filters = 512, kernel_size = 3, padding = 'Same', activation ='relu'))\n",
        "model.add(MaxPooling2D(pool_size=(2,2)))\n",
        "model.add(Dropout(0.25))\n",
        "\n",
        "model.add(Flatten())\n",
        "\n",
        "model.add(Dense(4096, activation = \"relu\"))\n",
        "model.add(Dropout(0.5))\n",
        "\n",
        "model.add(Dense(4096, activation = \"relu\"))\n",
        "model.add(Dropout(0.5))\n",
        "\n",
        "model.add(Dense(4096, activation = \"relu\"))\n",
        "model.add(Dropout(0.5))\n",
        "\n",
        "model.add(Dense(1))"
      ],
      "execution_count": 8,
      "outputs": []
    },
    {
      "cell_type": "code",
      "metadata": {
        "id": "hu4z38GeKiqg",
        "colab_type": "code",
        "colab": {}
      },
      "source": [
        "model.compile(loss='mean_squared_error', optimizer='adam', metrics=['mae'])"
      ],
      "execution_count": 9,
      "outputs": []
    },
    {
      "cell_type": "code",
      "metadata": {
        "id": "8pFX81l3KxQu",
        "colab_type": "code",
        "colab": {
          "base_uri": "https://localhost:8080/",
          "height": 1000
        },
        "outputId": "4ed52b9f-a2ca-4724-c85a-2417471954ad"
      },
      "source": [
        "model.summary()"
      ],
      "execution_count": 10,
      "outputs": [
        {
          "output_type": "stream",
          "text": [
            "Model: \"sequential_1\"\n",
            "_________________________________________________________________\n",
            "Layer (type)                 Output Shape              Param #   \n",
            "=================================================================\n",
            "conv2d_9 (Conv2D)            (None, 640, 480, 64)      1792      \n",
            "_________________________________________________________________\n",
            "max_pooling2d_9 (MaxPooling2 (None, 320, 240, 64)      0         \n",
            "_________________________________________________________________\n",
            "dropout_8 (Dropout)          (None, 320, 240, 64)      0         \n",
            "_________________________________________________________________\n",
            "conv2d_10 (Conv2D)           (None, 320, 240, 64)      36928     \n",
            "_________________________________________________________________\n",
            "max_pooling2d_10 (MaxPooling (None, 160, 120, 64)      0         \n",
            "_________________________________________________________________\n",
            "dropout_9 (Dropout)          (None, 160, 120, 64)      0         \n",
            "_________________________________________________________________\n",
            "conv2d_11 (Conv2D)           (None, 160, 120, 128)     73856     \n",
            "_________________________________________________________________\n",
            "max_pooling2d_11 (MaxPooling (None, 80, 60, 128)       0         \n",
            "_________________________________________________________________\n",
            "dropout_10 (Dropout)         (None, 80, 60, 128)       0         \n",
            "_________________________________________________________________\n",
            "conv2d_12 (Conv2D)           (None, 80, 60, 128)       147584    \n",
            "_________________________________________________________________\n",
            "max_pooling2d_12 (MaxPooling (None, 40, 30, 128)       0         \n",
            "_________________________________________________________________\n",
            "dropout_11 (Dropout)         (None, 40, 30, 128)       0         \n",
            "_________________________________________________________________\n",
            "conv2d_13 (Conv2D)           (None, 40, 30, 256)       295168    \n",
            "_________________________________________________________________\n",
            "max_pooling2d_13 (MaxPooling (None, 20, 15, 256)       0         \n",
            "_________________________________________________________________\n",
            "dropout_12 (Dropout)         (None, 20, 15, 256)       0         \n",
            "_________________________________________________________________\n",
            "conv2d_14 (Conv2D)           (None, 20, 15, 256)       590080    \n",
            "_________________________________________________________________\n",
            "max_pooling2d_14 (MaxPooling (None, 10, 7, 256)        0         \n",
            "_________________________________________________________________\n",
            "dropout_13 (Dropout)         (None, 10, 7, 256)        0         \n",
            "_________________________________________________________________\n",
            "conv2d_15 (Conv2D)           (None, 10, 7, 256)        590080    \n",
            "_________________________________________________________________\n",
            "max_pooling2d_15 (MaxPooling (None, 5, 3, 256)         0         \n",
            "_________________________________________________________________\n",
            "dropout_14 (Dropout)         (None, 5, 3, 256)         0         \n",
            "_________________________________________________________________\n",
            "conv2d_16 (Conv2D)           (None, 5, 3, 512)         1180160   \n",
            "_________________________________________________________________\n",
            "max_pooling2d_16 (MaxPooling (None, 2, 1, 512)         0         \n",
            "_________________________________________________________________\n",
            "dropout_15 (Dropout)         (None, 2, 1, 512)         0         \n",
            "_________________________________________________________________\n",
            "flatten (Flatten)            (None, 1024)              0         \n",
            "_________________________________________________________________\n",
            "dense (Dense)                (None, 4096)              4198400   \n",
            "_________________________________________________________________\n",
            "dropout_16 (Dropout)         (None, 4096)              0         \n",
            "_________________________________________________________________\n",
            "dense_1 (Dense)              (None, 4096)              16781312  \n",
            "_________________________________________________________________\n",
            "dropout_17 (Dropout)         (None, 4096)              0         \n",
            "_________________________________________________________________\n",
            "dense_2 (Dense)              (None, 4096)              16781312  \n",
            "_________________________________________________________________\n",
            "dropout_18 (Dropout)         (None, 4096)              0         \n",
            "_________________________________________________________________\n",
            "dense_3 (Dense)              (None, 1)                 4097      \n",
            "=================================================================\n",
            "Total params: 40,680,769\n",
            "Trainable params: 40,680,769\n",
            "Non-trainable params: 0\n",
            "_________________________________________________________________\n"
          ],
          "name": "stdout"
        }
      ]
    },
    {
      "cell_type": "code",
      "metadata": {
        "id": "a5I4_vNiUzjr",
        "colab_type": "code",
        "colab": {}
      },
      "source": [
        "earlyStopper = EarlyStopping(patience=3, restore_best_weights=True)"
      ],
      "execution_count": 11,
      "outputs": []
    },
    {
      "cell_type": "code",
      "metadata": {
        "id": "mbILpPBsKzrd",
        "colab_type": "code",
        "colab": {
          "base_uri": "https://localhost:8080/",
          "height": 287
        },
        "outputId": "dd7660cf-6b12-4831-b0c7-9e7bc66e3b5b"
      },
      "source": [
        "history = model.fit(train_data, \n",
        "          steps_per_epoch=1800//16,\n",
        "          validation_data=test_data,\n",
        "          validation_steps=200//16,\n",
        "          epochs=100,\n",
        "          callbacks=[earlyStopper])"
      ],
      "execution_count": 15,
      "outputs": [
        {
          "output_type": "stream",
          "text": [
            "Epoch 1/100\n",
            "112/112 [==============================] - 148s 1s/step - loss: 331.7489 - mae: 11.5127 - val_loss: 45.2337 - val_mae: 5.2510\n",
            "Epoch 2/100\n",
            "112/112 [==============================] - 147s 1s/step - loss: 57.4492 - mae: 6.0602 - val_loss: 57.9395 - val_mae: 5.8227\n",
            "Epoch 3/100\n",
            "112/112 [==============================] - 147s 1s/step - loss: 58.2834 - mae: 6.0879 - val_loss: 49.0920 - val_mae: 5.2823\n",
            "Epoch 4/100\n",
            "112/112 [==============================] - 148s 1s/step - loss: 59.2295 - mae: 6.1416 - val_loss: 44.3514 - val_mae: 5.1505\n",
            "Epoch 5/100\n",
            "112/112 [==============================] - 148s 1s/step - loss: 56.5742 - mae: 5.9967 - val_loss: 45.0424 - val_mae: 5.3709\n",
            "Epoch 6/100\n",
            "112/112 [==============================] - 148s 1s/step - loss: 59.1596 - mae: 6.1155 - val_loss: 53.9850 - val_mae: 5.5571\n",
            "Epoch 7/100\n",
            "112/112 [==============================] - 149s 1s/step - loss: 57.7431 - mae: 6.0662 - val_loss: 46.6654 - val_mae: 5.4743\n"
          ],
          "name": "stdout"
        }
      ]
    },
    {
      "cell_type": "code",
      "metadata": {
        "id": "8YgXKMTxMG90",
        "colab_type": "code",
        "colab": {
          "base_uri": "https://localhost:8080/",
          "height": 573
        },
        "outputId": "68baeaac-092f-48aa-ec60-b01e5bd10cb0"
      },
      "source": [
        "plt.plot(history.history['mae'])\n",
        "plt.plot(history.history['val_mae'])\n",
        "plt.title('Model MAE')\n",
        "plt.ylabel('MAE')\n",
        "plt.xlabel('Epoch')\n",
        "plt.legend(['train', 'test'], loc='upper left')\n",
        "plt.show()\n",
        "\n",
        "plt.plot(history.history['loss'])\n",
        "plt.plot(history.history['val_loss'])\n",
        "plt.title('Model Loss')\n",
        "plt.ylabel('Loss')\n",
        "plt.xlabel('Epoch')\n",
        "plt.legend(['train', 'test'], loc='upper left')\n",
        "plt.show()"
      ],
      "execution_count": 16,
      "outputs": [
        {
          "output_type": "display_data",
          "data": {
            "image/png": "[encoded data removed]",
            "text/plain": [
              "<Figure size 432x288 with 1 Axes>"
            ]
          },
          "metadata": {
            "tags": [],
            "needs_background": "light"
          }
        },
        {
          "output_type": "display_data",
          "data": {
            "image/png": "[encoded data removed]",
            "text/plain": [
              "<Figure size 432x288 with 1 Axes>"
            ]
          },
          "metadata": {
            "tags": [],
            "needs_background": "light"
          }
        }
      ]
    },
    {
      "cell_type": "code",
      "metadata": {
        "id": "Sg2z3_DBNvkf",
        "colab_type": "code",
        "colab": {}
      },
      "source": [
        "model.save(\"best.h5\")"
      ],
      "execution_count": 17,
      "outputs": []
    },
    {
      "cell_type": "code",
      "metadata": {
        "id": "8-fjUcqlP4GH",
        "colab_type": "code",
        "colab": {}
      },
      "source": [
        ""
      ],
      "execution_count": null,
      "outputs": []
    }
  ]
}