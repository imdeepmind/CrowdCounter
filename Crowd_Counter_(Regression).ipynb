{
  "nbformat": 4,
  "nbformat_minor": 0,
  "metadata": {
    "colab": {
      "name": "Crowd Counter (Regression).ipynb",
      "provenance": [],
      "mount_file_id": "1kX3bWLZ-KqRNjfmUnzdgn1YcjYZGPzhW",
      "authorship_tag": "ABX9TyOvHl12CjPLrwzMj5H4x7DZ",
      "include_colab_link": true
    },
    "kernelspec": {
      "name": "python3",
      "display_name": "Python 3"
    },
    "accelerator": "GPU"
  },
  "cells": [
    {
      "cell_type": "markdown",
      "metadata": {
        "id": "view-in-github",
        "colab_type": "text"
      },
      "source": [
        "<a href=\"https://colab.research.google.com/github/imdeepmind/CrowdCounter/blob/master/Crowd_Counter_(Regression).ipynb\" target=\"_parent\"><img src=\"https://colab.research.google.com/assets/colab-badge.svg\" alt=\"Open In Colab\"/></a>"
      ]
    },
    {
      "cell_type": "code",
      "metadata": {
        "id": "2o0xL6dWfLyK",
        "colab_type": "code",
        "colab": {}
      },
      "source": [
        "# Getting the dataset into proper place\n",
        "!mkdir data\n",
        "!cp '/content/drive/My Drive/datasets/dataset.zip' ./\n",
        "!unzip -qq dataset.zip -d ./data/\n",
        "!rm dataset.zip"
      ],
      "execution_count": 3,
      "outputs": []
    },
    {
      "cell_type": "code",
      "metadata": {
        "id": "SYTkkaZ3MiMe",
        "colab_type": "code",
        "colab": {}
      },
      "source": [
        "# Script to generate the processed.csv file\n",
        "import pandas as pd\n",
        "import numpy as np\n",
        "import matplotlib.pyplot as plt\n",
        "import matplotlib.image as mpimg\n",
        "import os\n",
        "\n",
        "labels = pd.read_csv('data/labels.csv')\n",
        "\n",
        "preprocessed_labels = []\n",
        "preprocessed_images = []\n",
        "\n",
        "images = os.listdir(\"/content/data/frames/frames\")\n",
        "\n",
        "for (id, count) in labels.values:\n",
        "  preprocessed_labels.append(count)\n",
        "  preprocessed_images.append(images[id-1])\n",
        "\n",
        "df = pd.DataFrame(columns=['image', 'count'])\n",
        "df['image'] = preprocessed_images\n",
        "df['count'] = preprocessed_labels\n",
        "\n",
        "df.head()\n",
        "\n",
        "df.to_csv('./data/processed.csv', index=False)"
      ],
      "execution_count": 4,
      "outputs": []
    },
    {
      "cell_type": "code",
      "metadata": {
        "id": "eegb0wcI8vKZ",
        "colab_type": "code",
        "colab": {}
      },
      "source": [
        "from sklearn.model_selection import train_test_split\n",
        "import pandas as pd\n",
        "import matplotlib.pyplot as plt\n",
        "\n",
        "from tensorflow.keras.models import Sequential\n",
        "from tensorflow.keras.layers import Conv2D, Dense, MaxPooling2D, Dropout, Flatten\n",
        "from tensorflow.keras.preprocessing.image import ImageDataGenerator\n",
        "from tensorflow.keras.losses import MeanSquaredError, Huber\n",
        "from tensorflow.keras.optimizers import Adam"
      ],
      "execution_count": 54,
      "outputs": []
    },
    {
      "cell_type": "code",
      "metadata": {
        "id": "txP9eK7yE1ZV",
        "colab_type": "code",
        "colab": {
          "base_uri": "https://localhost:8080/",
          "height": 206
        },
        "outputId": "a00c58f4-c7bb-4ac4-dc5d-b835057217bf"
      },
      "source": [
        "# Reading data\n",
        "data = pd.read_csv(\"./data/processed.csv\")\n",
        "\n",
        "data.head()"
      ],
      "execution_count": 6,
      "outputs": [
        {
          "output_type": "execute_result",
          "data": {
            "text/html": [
              "<div>\n",
              "<style scoped>\n",
              "    .dataframe tbody tr th:only-of-type {\n",
              "        vertical-align: middle;\n",
              "    }\n",
              "\n",
              "    .dataframe tbody tr th {\n",
              "        vertical-align: top;\n",
              "    }\n",
              "\n",
              "    .dataframe thead th {\n",
              "        text-align: right;\n",
              "    }\n",
              "</style>\n",
              "<table border=\"1\" class=\"dataframe\">\n",
              "  <thead>\n",
              "    <tr style=\"text-align: right;\">\n",
              "      <th></th>\n",
              "      <th>image</th>\n",
              "      <th>count</th>\n",
              "    </tr>\n",
              "  </thead>\n",
              "  <tbody>\n",
              "    <tr>\n",
              "      <th>0</th>\n",
              "      <td>seq_000269.jpg</td>\n",
              "      <td>35</td>\n",
              "    </tr>\n",
              "    <tr>\n",
              "      <th>1</th>\n",
              "      <td>seq_000217.jpg</td>\n",
              "      <td>41</td>\n",
              "    </tr>\n",
              "    <tr>\n",
              "      <th>2</th>\n",
              "      <td>seq_001471.jpg</td>\n",
              "      <td>41</td>\n",
              "    </tr>\n",
              "    <tr>\n",
              "      <th>3</th>\n",
              "      <td>seq_001249.jpg</td>\n",
              "      <td>44</td>\n",
              "    </tr>\n",
              "    <tr>\n",
              "      <th>4</th>\n",
              "      <td>seq_000095.jpg</td>\n",
              "      <td>41</td>\n",
              "    </tr>\n",
              "  </tbody>\n",
              "</table>\n",
              "</div>"
            ],
            "text/plain": [
              "            image  count\n",
              "0  seq_000269.jpg     35\n",
              "1  seq_000217.jpg     41\n",
              "2  seq_001471.jpg     41\n",
              "3  seq_001249.jpg     44\n",
              "4  seq_000095.jpg     41"
            ]
          },
          "metadata": {
            "tags": []
          },
          "execution_count": 6
        }
      ]
    },
    {
      "cell_type": "code",
      "metadata": {
        "id": "31FSgcYVE-bf",
        "colab_type": "code",
        "colab": {
          "base_uri": "https://localhost:8080/",
          "height": 206
        },
        "outputId": "4d109e47-57de-420f-9ab8-defe3ea3a864"
      },
      "source": [
        "train, test = train_test_split(data, test_size=0.1, random_state=1969)\n",
        "\n",
        "train.head()"
      ],
      "execution_count": 27,
      "outputs": [
        {
          "output_type": "execute_result",
          "data": {
            "text/html": [
              "<div>\n",
              "<style scoped>\n",
              "    .dataframe tbody tr th:only-of-type {\n",
              "        vertical-align: middle;\n",
              "    }\n",
              "\n",
              "    .dataframe tbody tr th {\n",
              "        vertical-align: top;\n",
              "    }\n",
              "\n",
              "    .dataframe thead th {\n",
              "        text-align: right;\n",
              "    }\n",
              "</style>\n",
              "<table border=\"1\" class=\"dataframe\">\n",
              "  <thead>\n",
              "    <tr style=\"text-align: right;\">\n",
              "      <th></th>\n",
              "      <th>image</th>\n",
              "      <th>count</th>\n",
              "    </tr>\n",
              "  </thead>\n",
              "  <tbody>\n",
              "    <tr>\n",
              "      <th>261</th>\n",
              "      <td>seq_001554.jpg</td>\n",
              "      <td>18</td>\n",
              "    </tr>\n",
              "    <tr>\n",
              "      <th>962</th>\n",
              "      <td>seq_001363.jpg</td>\n",
              "      <td>31</td>\n",
              "    </tr>\n",
              "    <tr>\n",
              "      <th>592</th>\n",
              "      <td>seq_000611.jpg</td>\n",
              "      <td>25</td>\n",
              "    </tr>\n",
              "    <tr>\n",
              "      <th>884</th>\n",
              "      <td>seq_000344.jpg</td>\n",
              "      <td>25</td>\n",
              "    </tr>\n",
              "    <tr>\n",
              "      <th>84</th>\n",
              "      <td>seq_001697.jpg</td>\n",
              "      <td>31</td>\n",
              "    </tr>\n",
              "  </tbody>\n",
              "</table>\n",
              "</div>"
            ],
            "text/plain": [
              "              image  count\n",
              "261  seq_001554.jpg     18\n",
              "962  seq_001363.jpg     31\n",
              "592  seq_000611.jpg     25\n",
              "884  seq_000344.jpg     25\n",
              "84   seq_001697.jpg     31"
            ]
          },
          "metadata": {
            "tags": []
          },
          "execution_count": 27
        }
      ]
    },
    {
      "cell_type": "code",
      "metadata": {
        "id": "A8mfERF28vzf",
        "colab_type": "code",
        "colab": {}
      },
      "source": [
        "train_generator = ImageDataGenerator(rotation_range=180, zoom_range=1.0, horizontal_flip=True, vertical_flip=True, rescale=1/255)\n",
        "test_generator = ImageDataGenerator(rescale=1/255.)\n"
      ],
      "execution_count": 55,
      "outputs": []
    },
    {
      "cell_type": "code",
      "metadata": {
        "id": "5gZA1FobF1t2",
        "colab_type": "code",
        "colab": {
          "base_uri": "https://localhost:8080/",
          "height": 56
        },
        "outputId": "92c2a1b6-b580-461e-9d47-e19ddda4703f"
      },
      "source": [
        "train_data = train_generator.flow_from_dataframe(train, \n",
        "                                                 directory='./data/frames/frames/', \n",
        "                                                 x_col='image', \n",
        "                                                 y_col='count', \n",
        "                                                 target_size=(256, 256),\n",
        "                                                 color_mode='rgb',\n",
        "                                                 class_mode='raw',\n",
        "                                                 batch_size=32,\n",
        "                                                 shuffle=True)\n",
        "\n",
        "test_data = test_generator.flow_from_dataframe(test, \n",
        "                                                 directory='./data/frames/frames/', \n",
        "                                                 x_col='image', \n",
        "                                                 y_col='count', \n",
        "                                                 target_size=(256, 256),\n",
        "                                                 color_mode='rgb',\n",
        "                                                 class_mode='raw',\n",
        "                                                 batch_size=32,\n",
        "                                                 shuffle=True)\n"
      ],
      "execution_count": 56,
      "outputs": [
        {
          "output_type": "stream",
          "text": [
            "Found 1800 validated image filenames.\n",
            "Found 200 validated image filenames.\n"
          ],
          "name": "stdout"
        }
      ]
    },
    {
      "cell_type": "code",
      "metadata": {
        "id": "J63_KT75Ilud",
        "colab_type": "code",
        "colab": {}
      },
      "source": [
        "model = Sequential()\n",
        "\n",
        "model.add(Conv2D(filters = 32, kernel_size = (5,5), padding = 'Same', activation ='relu', input_shape = (256,256,3)))\n",
        "model.add(MaxPooling2D(pool_size=(2,2)))\n",
        "model.add(Dropout(0.25))\n",
        "\n",
        "model.add(Conv2D(filters = 64, kernel_size = (5,5), padding = 'Same', activation ='relu'))\n",
        "model.add(MaxPooling2D(pool_size=(2,2)))\n",
        "model.add(Dropout(0.25))\n",
        "\n",
        "model.add(Conv2D(filters = 128, kernel_size = (5,5), padding = 'Same', activation ='relu'))\n",
        "model.add(MaxPooling2D(pool_size=(2,2)))\n",
        "model.add(Dropout(0.25))\n",
        "\n",
        "model.add(Flatten())\n",
        "\n",
        "model.add(Dense(128, activation = \"relu\"))\n",
        "model.add(Dropout(0.5))\n",
        "model.add(Dense(1, activation = \"sigmoid\"))"
      ],
      "execution_count": 57,
      "outputs": []
    },
    {
      "cell_type": "code",
      "metadata": {
        "id": "hu4z38GeKiqg",
        "colab_type": "code",
        "colab": {}
      },
      "source": [
        "loss_fn = Huber()\n",
        "optimizer_fn = Adam()\n",
        "model.compile(optimizer = optimizer_fn, loss = loss_fn, metrics = ['mae'])"
      ],
      "execution_count": 61,
      "outputs": []
    },
    {
      "cell_type": "code",
      "metadata": {
        "id": "8pFX81l3KxQu",
        "colab_type": "code",
        "colab": {
          "base_uri": "https://localhost:8080/",
          "height": 683
        },
        "outputId": "4371660f-0eb9-4e7b-96d7-1e3babca6b57"
      },
      "source": [
        "model.summary()"
      ],
      "execution_count": 62,
      "outputs": [
        {
          "output_type": "stream",
          "text": [
            "Model: \"sequential_5\"\n",
            "_________________________________________________________________\n",
            "Layer (type)                 Output Shape              Param #   \n",
            "=================================================================\n",
            "conv2d_14 (Conv2D)           (None, 256, 256, 32)      2432      \n",
            "_________________________________________________________________\n",
            "max_pooling2d_14 (MaxPooling (None, 128, 128, 32)      0         \n",
            "_________________________________________________________________\n",
            "dropout_19 (Dropout)         (None, 128, 128, 32)      0         \n",
            "_________________________________________________________________\n",
            "conv2d_15 (Conv2D)           (None, 128, 128, 64)      51264     \n",
            "_________________________________________________________________\n",
            "max_pooling2d_15 (MaxPooling (None, 64, 64, 64)        0         \n",
            "_________________________________________________________________\n",
            "dropout_20 (Dropout)         (None, 64, 64, 64)        0         \n",
            "_________________________________________________________________\n",
            "conv2d_16 (Conv2D)           (None, 64, 64, 128)       204928    \n",
            "_________________________________________________________________\n",
            "max_pooling2d_16 (MaxPooling (None, 32, 32, 128)       0         \n",
            "_________________________________________________________________\n",
            "dropout_21 (Dropout)         (None, 32, 32, 128)       0         \n",
            "_________________________________________________________________\n",
            "flatten_5 (Flatten)          (None, 131072)            0         \n",
            "_________________________________________________________________\n",
            "dense_10 (Dense)             (None, 128)               16777344  \n",
            "_________________________________________________________________\n",
            "dropout_22 (Dropout)         (None, 128)               0         \n",
            "_________________________________________________________________\n",
            "dense_11 (Dense)             (None, 1)                 129       \n",
            "=================================================================\n",
            "Total params: 17,036,097\n",
            "Trainable params: 17,036,097\n",
            "Non-trainable params: 0\n",
            "_________________________________________________________________\n"
          ],
          "name": "stdout"
        }
      ]
    },
    {
      "cell_type": "code",
      "metadata": {
        "id": "mbILpPBsKzrd",
        "colab_type": "code",
        "colab": {
          "base_uri": "https://localhost:8080/",
          "height": 213
        },
        "outputId": "ca586089-e86b-4560-868f-7d94a95eaed0"
      },
      "source": [
        "history = model.fit(train_data, \n",
        "          steps_per_epoch=1800//32,\n",
        "          validation_data=test_data,\n",
        "          validation_steps=200//32,\n",
        "          epochs=10)"
      ],
      "execution_count": null,
      "outputs": [
        {
          "output_type": "stream",
          "text": [
            "Epoch 1/10\n",
            "56/56 [==============================] - 31s 560ms/step - loss: 960.6658 - mae: 30.1976 - val_loss: 950.3281 - val_mae: 30.0885\n",
            "Epoch 2/10\n",
            "56/56 [==============================] - 31s 559ms/step - loss: 956.0430 - mae: 30.1256 - val_loss: 939.9896 - val_mae: 29.9271\n",
            "Epoch 3/10\n",
            "56/56 [==============================] - 31s 558ms/step - loss: 957.9027 - mae: 30.1572 - val_loss: 935.3698 - val_mae: 29.8594\n",
            "Epoch 4/10\n",
            "56/56 [==============================] - 31s 553ms/step - loss: 958.4626 - mae: 30.1697 - val_loss: 951.7708 - val_mae: 30.0833\n",
            "Epoch 5/10\n",
            "15/56 [=======>......................] - ETA: 19s - loss: 939.7632 - mae: 29.8947"
          ],
          "name": "stdout"
        }
      ]
    },
    {
      "cell_type": "code",
      "metadata": {
        "id": "8YgXKMTxMG90",
        "colab_type": "code",
        "colab": {
          "base_uri": "https://localhost:8080/",
          "height": 573
        },
        "outputId": "92d7339b-f3d5-4cd9-9e20-e8c7b4986e51"
      },
      "source": [
        "plt.plot(history.history['mae'])\n",
        "plt.plot(history.history['val_mae'])\n",
        "plt.title('Model MAE')\n",
        "plt.ylabel('MAE')\n",
        "plt.xlabel('Epoch')\n",
        "plt.legend(['train', 'test'], loc='upper left')\n",
        "plt.show()\n",
        "\n",
        "plt.plot(history.history['loss'])\n",
        "plt.plot(history.history['val_loss'])\n",
        "plt.title('Model Loss')\n",
        "plt.ylabel('Loss')\n",
        "plt.xlabel('Epoch')\n",
        "plt.legend(['train', 'test'], loc='upper left')\n",
        "plt.show()"
      ],
      "execution_count": 44,
      "outputs": [
        {
          "output_type": "display_data",
          "data": {
            "image/png": "[encoded data removed]",
            "text/plain": [
              "<Figure size 432x288 with 1 Axes>"
            ]
          },
          "metadata": {
            "tags": [],
            "needs_background": "light"
          }
        },
        {
          "output_type": "display_data",
          "data": {
            "image/png": "[encoded data removed]",
            "text/plain": [
              "<Figure size 432x288 with 1 Axes>"
            ]
          },
          "metadata": {
            "tags": [],
            "needs_background": "light"
          }
        }
      ]
    },
    {
      "cell_type": "code",
      "metadata": {
        "id": "Sg2z3_DBNvkf",
        "colab_type": "code",
        "colab": {}
      },
      "source": [
        ""
      ],
      "execution_count": null,
      "outputs": []
    }
  ]
}