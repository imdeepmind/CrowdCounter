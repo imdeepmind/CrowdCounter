{
  "nbformat": 4,
  "nbformat_minor": 0,
  "metadata": {
    "colab": {
      "name": "Crowd Counter (InceptionResnetV2).ipynb",
      "provenance": [],
      "mount_file_id": "1kX3bWLZ-KqRNjfmUnzdgn1YcjYZGPzhW",
      "authorship_tag": "ABX9TyNaD5HqZJBuvGtjGYM8A0nN",
      "include_colab_link": true
    },
    "kernelspec": {
      "name": "python3",
      "display_name": "Python 3"
    },
    "accelerator": "GPU"
  },
  "cells": [
    {
      "cell_type": "markdown",
      "metadata": {
        "id": "view-in-github",
        "colab_type": "text"
      },
      "source": [
        "<a href=\"https://colab.research.google.com/github/imdeepmind/CrowdCounter/blob/master/Crowd_Counter_(InceptionResnetV2).ipynb\" target=\"_parent\"><img src=\"https://colab.research.google.com/assets/colab-badge.svg\" alt=\"Open In Colab\"/></a>"
      ]
    },
    {
      "cell_type": "code",
      "metadata": {
        "id": "2o0xL6dWfLyK",
        "colab_type": "code",
        "colab": {}
      },
      "source": [
        "# Getting the dataset into proper place\n",
        "!mkdir data\n",
        "!cp '/content/drive/My Drive/datasets/dataset.zip' ./\n",
        "!unzip -qq dataset.zip -d ./data/\n",
        "!rm dataset.zip"
      ],
      "execution_count": 1,
      "outputs": []
    },
    {
      "cell_type": "code",
      "metadata": {
        "id": "SYTkkaZ3MiMe",
        "colab_type": "code",
        "colab": {}
      },
      "source": [
        "# Script to generate the processed.csv file\n",
        "import pandas as pd\n",
        "import numpy as np\n",
        "import matplotlib.pyplot as plt\n",
        "import matplotlib.image as mpimg\n",
        "import os\n",
        "\n",
        "labels = pd.read_csv('data/labels.csv')\n",
        "\n",
        "preprocessed_labels = []\n",
        "preprocessed_images = []\n",
        "\n",
        "images = os.listdir(\"/content/data/frames/frames\")\n",
        "\n",
        "for (id, count) in labels.values:\n",
        "  preprocessed_labels.append(count)\n",
        "  preprocessed_images.append(images[id-1])\n",
        "\n",
        "df = pd.DataFrame(columns=['image', 'count'])\n",
        "df['image'] = preprocessed_images\n",
        "df['count'] = preprocessed_labels\n",
        "\n",
        "df.head()\n",
        "\n",
        "df.to_csv('./data/processed.csv', index=False)"
      ],
      "execution_count": 2,
      "outputs": []
    },
    {
      "cell_type": "code",
      "metadata": {
        "id": "eegb0wcI8vKZ",
        "colab_type": "code",
        "colab": {}
      },
      "source": [
        "from sklearn.model_selection import train_test_split\n",
        "import pandas as pd\n",
        "import matplotlib.pyplot as plt\n",
        "\n",
        "from tensorflow.keras.models import Sequential\n",
        "from tensorflow.keras.layers import Conv2D, Dense, MaxPooling2D, Dropout, Flatten\n",
        "from tensorflow.keras.preprocessing.image import ImageDataGenerator\n",
        "from tensorflow.keras.losses import MeanSquaredError, Huber\n",
        "from tensorflow.keras.optimizers import Adam\n",
        "from tensorflow.keras.callbacks import EarlyStopping\n",
        "from tensorflow.keras.applications import InceptionResNetV2"
      ],
      "execution_count": 3,
      "outputs": []
    },
    {
      "cell_type": "code",
      "metadata": {
        "id": "txP9eK7yE1ZV",
        "colab_type": "code",
        "colab": {
          "base_uri": "https://localhost:8080/",
          "height": 206
        },
        "outputId": "54d773c7-19e9-4a9a-d441-9043b526c848"
      },
      "source": [
        "# Reading data\n",
        "data = pd.read_csv(\"./data/processed.csv\")\n",
        "\n",
        "data.head()"
      ],
      "execution_count": 4,
      "outputs": [
        {
          "output_type": "execute_result",
          "data": {
            "text/html": [
              "<div>\n",
              "<style scoped>\n",
              "    .dataframe tbody tr th:only-of-type {\n",
              "        vertical-align: middle;\n",
              "    }\n",
              "\n",
              "    .dataframe tbody tr th {\n",
              "        vertical-align: top;\n",
              "    }\n",
              "\n",
              "    .dataframe thead th {\n",
              "        text-align: right;\n",
              "    }\n",
              "</style>\n",
              "<table border=\"1\" class=\"dataframe\">\n",
              "  <thead>\n",
              "    <tr style=\"text-align: right;\">\n",
              "      <th></th>\n",
              "      <th>image</th>\n",
              "      <th>count</th>\n",
              "    </tr>\n",
              "  </thead>\n",
              "  <tbody>\n",
              "    <tr>\n",
              "      <th>0</th>\n",
              "      <td>seq_001953.jpg</td>\n",
              "      <td>35</td>\n",
              "    </tr>\n",
              "    <tr>\n",
              "      <th>1</th>\n",
              "      <td>seq_000090.jpg</td>\n",
              "      <td>41</td>\n",
              "    </tr>\n",
              "    <tr>\n",
              "      <th>2</th>\n",
              "      <td>seq_001454.jpg</td>\n",
              "      <td>41</td>\n",
              "    </tr>\n",
              "    <tr>\n",
              "      <th>3</th>\n",
              "      <td>seq_000033.jpg</td>\n",
              "      <td>44</td>\n",
              "    </tr>\n",
              "    <tr>\n",
              "      <th>4</th>\n",
              "      <td>seq_000534.jpg</td>\n",
              "      <td>41</td>\n",
              "    </tr>\n",
              "  </tbody>\n",
              "</table>\n",
              "</div>"
            ],
            "text/plain": [
              "            image  count\n",
              "0  seq_001953.jpg     35\n",
              "1  seq_000090.jpg     41\n",
              "2  seq_001454.jpg     41\n",
              "3  seq_000033.jpg     44\n",
              "4  seq_000534.jpg     41"
            ]
          },
          "metadata": {
            "tags": []
          },
          "execution_count": 4
        }
      ]
    },
    {
      "cell_type": "code",
      "metadata": {
        "id": "31FSgcYVE-bf",
        "colab_type": "code",
        "colab": {
          "base_uri": "https://localhost:8080/",
          "height": 206
        },
        "outputId": "66ec36aa-4677-4168-9e5d-b36967cf4ea2"
      },
      "source": [
        "train, test = train_test_split(data, test_size=0.1, random_state=1969)\n",
        "\n",
        "train.head()"
      ],
      "execution_count": 5,
      "outputs": [
        {
          "output_type": "execute_result",
          "data": {
            "text/html": [
              "<div>\n",
              "<style scoped>\n",
              "    .dataframe tbody tr th:only-of-type {\n",
              "        vertical-align: middle;\n",
              "    }\n",
              "\n",
              "    .dataframe tbody tr th {\n",
              "        vertical-align: top;\n",
              "    }\n",
              "\n",
              "    .dataframe thead th {\n",
              "        text-align: right;\n",
              "    }\n",
              "</style>\n",
              "<table border=\"1\" class=\"dataframe\">\n",
              "  <thead>\n",
              "    <tr style=\"text-align: right;\">\n",
              "      <th></th>\n",
              "      <th>image</th>\n",
              "      <th>count</th>\n",
              "    </tr>\n",
              "  </thead>\n",
              "  <tbody>\n",
              "    <tr>\n",
              "      <th>261</th>\n",
              "      <td>seq_001599.jpg</td>\n",
              "      <td>18</td>\n",
              "    </tr>\n",
              "    <tr>\n",
              "      <th>962</th>\n",
              "      <td>seq_000833.jpg</td>\n",
              "      <td>31</td>\n",
              "    </tr>\n",
              "    <tr>\n",
              "      <th>592</th>\n",
              "      <td>seq_001483.jpg</td>\n",
              "      <td>25</td>\n",
              "    </tr>\n",
              "    <tr>\n",
              "      <th>884</th>\n",
              "      <td>seq_000197.jpg</td>\n",
              "      <td>25</td>\n",
              "    </tr>\n",
              "    <tr>\n",
              "      <th>84</th>\n",
              "      <td>seq_001613.jpg</td>\n",
              "      <td>31</td>\n",
              "    </tr>\n",
              "  </tbody>\n",
              "</table>\n",
              "</div>"
            ],
            "text/plain": [
              "              image  count\n",
              "261  seq_001599.jpg     18\n",
              "962  seq_000833.jpg     31\n",
              "592  seq_001483.jpg     25\n",
              "884  seq_000197.jpg     25\n",
              "84   seq_001613.jpg     31"
            ]
          },
          "metadata": {
            "tags": []
          },
          "execution_count": 5
        }
      ]
    },
    {
      "cell_type": "code",
      "metadata": {
        "id": "A8mfERF28vzf",
        "colab_type": "code",
        "colab": {}
      },
      "source": [
        "train_generator = ImageDataGenerator(rotation_range=180, horizontal_flip=True, vertical_flip=True, rescale=1/255.)\n",
        "test_generator = ImageDataGenerator(rescale=1/255.)"
      ],
      "execution_count": 6,
      "outputs": []
    },
    {
      "cell_type": "code",
      "metadata": {
        "id": "5gZA1FobF1t2",
        "colab_type": "code",
        "colab": {
          "base_uri": "https://localhost:8080/",
          "height": 55
        },
        "outputId": "d59f9805-1e25-4a11-8bc2-018697edd9b7"
      },
      "source": [
        "train_data = train_generator.flow_from_dataframe(train, \n",
        "                                                 directory='./data/frames/frames/', \n",
        "                                                 x_col='image', \n",
        "                                                 y_col='count', \n",
        "                                                 target_size=(640, 480),\n",
        "                                                 color_mode='rgb',\n",
        "                                                 class_mode='raw',\n",
        "                                                 batch_size=16,\n",
        "                                                 shuffle=True)\n",
        "\n",
        "test_data = test_generator.flow_from_dataframe(test, \n",
        "                                                 directory='./data/frames/frames/', \n",
        "                                                 x_col='image', \n",
        "                                                 y_col='count', \n",
        "                                                 target_size=(640, 480),\n",
        "                                                 color_mode='rgb',\n",
        "                                                 class_mode='raw',\n",
        "                                                 batch_size=16,\n",
        "                                                 shuffle=True)\n"
      ],
      "execution_count": 7,
      "outputs": [
        {
          "output_type": "stream",
          "text": [
            "Found 1800 validated image filenames.\n",
            "Found 200 validated image filenames.\n"
          ],
          "name": "stdout"
        }
      ]
    },
    {
      "cell_type": "code",
      "metadata": {
        "id": "J63_KT75Ilud",
        "colab_type": "code",
        "colab": {}
      },
      "source": [
        "model = Sequential()\n",
        "\n",
        "pretrainedModels = InceptionResNetV2(include_top=False,\n",
        "                                     weights=\"imagenet\", \n",
        "                                     input_shape=(640,480,3),\n",
        "                                     pooling=\"avg\")\n",
        "model = Sequential()\n",
        "\n",
        "model.add(pretrainedModels)\n",
        "model.add(Dense(1))"
      ],
      "execution_count": 12,
      "outputs": []
    },
    {
      "cell_type": "code",
      "metadata": {
        "id": "hu4z38GeKiqg",
        "colab_type": "code",
        "colab": {}
      },
      "source": [
        "model.compile(loss='mean_squared_error', optimizer='adam', metrics=['mae'])"
      ],
      "execution_count": 13,
      "outputs": []
    },
    {
      "cell_type": "code",
      "metadata": {
        "id": "8pFX81l3KxQu",
        "colab_type": "code",
        "colab": {
          "base_uri": "https://localhost:8080/",
          "height": 243
        },
        "outputId": "c4979667-7a2b-43e1-8c54-476b90c04492"
      },
      "source": [
        "model.summary()"
      ],
      "execution_count": 14,
      "outputs": [
        {
          "output_type": "stream",
          "text": [
            "Model: \"sequential_2\"\n",
            "_________________________________________________________________\n",
            "Layer (type)                 Output Shape              Param #   \n",
            "=================================================================\n",
            "inception_resnet_v2 (Functio (None, 1536)              54336736  \n",
            "_________________________________________________________________\n",
            "dense_1 (Dense)              (None, 1)                 1537      \n",
            "=================================================================\n",
            "Total params: 54,338,273\n",
            "Trainable params: 54,277,729\n",
            "Non-trainable params: 60,544\n",
            "_________________________________________________________________\n"
          ],
          "name": "stdout"
        }
      ]
    },
    {
      "cell_type": "code",
      "metadata": {
        "id": "a5I4_vNiUzjr",
        "colab_type": "code",
        "colab": {}
      },
      "source": [
        "earlyStopper = EarlyStopping(patience=3, restore_best_weights=True)"
      ],
      "execution_count": 15,
      "outputs": []
    },
    {
      "cell_type": "code",
      "metadata": {
        "id": "mbILpPBsKzrd",
        "colab_type": "code",
        "colab": {
          "base_uri": "https://localhost:8080/",
          "height": 508
        },
        "outputId": "512ef5fc-71fe-496e-8561-1bc9096a2d33"
      },
      "source": [
        "history = model.fit(train_data, \n",
        "          steps_per_epoch=1800//16,\n",
        "          validation_data=test_data,\n",
        "          validation_steps=200//16,\n",
        "          epochs=100,\n",
        "          callbacks=[earlyStopper])"
      ],
      "execution_count": 16,
      "outputs": [
        {
          "output_type": "stream",
          "text": [
            "Epoch 1/100\n",
            "112/112 [==============================] - 177s 2s/step - loss: 136.3566 - mae: 8.7602 - val_loss: 80.4020 - val_mae: 7.1151\n",
            "Epoch 2/100\n",
            "112/112 [==============================] - 172s 2s/step - loss: 49.9170 - mae: 5.6307 - val_loss: 200.1891 - val_mae: 8.0073\n",
            "Epoch 3/100\n",
            "112/112 [==============================] - 172s 2s/step - loss: 49.4899 - mae: 5.6102 - val_loss: 67.2501 - val_mae: 6.4062\n",
            "Epoch 4/100\n",
            "112/112 [==============================] - 171s 2s/step - loss: 53.5209 - mae: 5.7480 - val_loss: 103.4653 - val_mae: 8.0692\n",
            "Epoch 5/100\n",
            "112/112 [==============================] - 171s 2s/step - loss: 50.1675 - mae: 5.6509 - val_loss: 86.9294 - val_mae: 8.0185\n",
            "Epoch 6/100\n",
            "112/112 [==============================] - 171s 2s/step - loss: 49.6040 - mae: 5.6256 - val_loss: 47.3859 - val_mae: 5.2739\n",
            "Epoch 7/100\n",
            "112/112 [==============================] - 170s 2s/step - loss: 49.1995 - mae: 5.5989 - val_loss: 48.4284 - val_mae: 5.6566\n",
            "Epoch 8/100\n",
            "112/112 [==============================] - 167s 1s/step - loss: 48.7072 - mae: 5.5635 - val_loss: 46.4351 - val_mae: 5.3770\n",
            "Epoch 9/100\n",
            "112/112 [==============================] - 166s 1s/step - loss: 49.3613 - mae: 5.6077 - val_loss: 46.1705 - val_mae: 5.4379\n",
            "Epoch 10/100\n",
            "112/112 [==============================] - 164s 1s/step - loss: 48.8343 - mae: 5.5700 - val_loss: 45.9821 - val_mae: 5.4154\n",
            "Epoch 11/100\n",
            "112/112 [==============================] - 164s 1s/step - loss: 48.9694 - mae: 5.5923 - val_loss: 46.5334 - val_mae: 5.4070\n",
            "Epoch 12/100\n",
            "112/112 [==============================] - 166s 1s/step - loss: 49.1108 - mae: 5.5853 - val_loss: 83.0793 - val_mae: 7.8132\n",
            "Epoch 13/100\n",
            "112/112 [==============================] - 167s 1s/step - loss: 49.4128 - mae: 5.6048 - val_loss: 47.2378 - val_mae: 5.2866\n"
          ],
          "name": "stdout"
        }
      ]
    },
    {
      "cell_type": "code",
      "metadata": {
        "id": "8YgXKMTxMG90",
        "colab_type": "code",
        "colab": {
          "base_uri": "https://localhost:8080/",
          "height": 573
        },
        "outputId": "5971c3e7-9e80-4c15-9bc2-fc184c3ef2b4"
      },
      "source": [
        "plt.plot(history.history['mae'])\n",
        "plt.plot(history.history['val_mae'])\n",
        "plt.title('Model MAE')\n",
        "plt.ylabel('MAE')\n",
        "plt.xlabel('Epoch')\n",
        "plt.legend(['train', 'test'], loc='upper left')\n",
        "plt.show()\n",
        "\n",
        "plt.plot(history.history['loss'])\n",
        "plt.plot(history.history['val_loss'])\n",
        "plt.title('Model Loss')\n",
        "plt.ylabel('Loss')\n",
        "plt.xlabel('Epoch')\n",
        "plt.legend(['train', 'test'], loc='upper left')\n",
        "plt.show()"
      ],
      "execution_count": 17,
      "outputs": [
        {
          "output_type": "display_data",
          "data": {
            "image/png": "[encoded data removed]",
            "text/plain": [
              "<Figure size 432x288 with 1 Axes>"
            ]
          },
          "metadata": {
            "tags": [],
            "needs_background": "light"
          }
        },
        {
          "output_type": "display_data",
          "data": {
            "image/png": "[encoded data removed]",
            "text/plain": [
              "<Figure size 432x288 with 1 Axes>"
            ]
          },
          "metadata": {
            "tags": [],
            "needs_background": "light"
          }
        }
      ]
    },
    {
      "cell_type": "code",
      "metadata": {
        "id": "Sg2z3_DBNvkf",
        "colab_type": "code",
        "colab": {}
      },
      "source": [
        "model.save(\"best.h5\")"
      ],
      "execution_count": 18,
      "outputs": []
    },
    {
      "cell_type": "code",
      "metadata": {
        "id": "8-fjUcqlP4GH",
        "colab_type": "code",
        "colab": {}
      },
      "source": [
        ""
      ],
      "execution_count": null,
      "outputs": []
    }
  ]
}